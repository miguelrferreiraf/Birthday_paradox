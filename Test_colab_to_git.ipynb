{
  "nbformat": 4,
  "nbformat_minor": 0,
  "metadata": {
    "colab": {
      "name": "Untitled0.ipynb",
      "provenance": [],
      "authorship_tag": "ABX9TyOe5f5pzsrqfK2IFeJWz2cR",
      "include_colab_link": true
    },
    "kernelspec": {
      "name": "python3",
      "display_name": "Python 3"
    },
    "language_info": {
      "name": "python"
    }
  },
  "cells": [
    {
      "cell_type": "markdown",
      "metadata": {
        "id": "view-in-github",
        "colab_type": "text"
      },
      "source": [
        "<a href=\"https://colab.research.google.com/github/MiguelRFerreiraF/Birthday_paradox/blob/main/Test_colab_to_git.ipynb\" target=\"_parent\"><img src=\"https://colab.research.google.com/assets/colab-badge.svg\" alt=\"Open In Colab\"/></a>"
      ]
    },
    {
      "cell_type": "code",
      "execution_count": 1,
      "metadata": {
        "colab": {
          "base_uri": "https://localhost:8080/"
        },
        "id": "DeNqmMtjAeUj",
        "outputId": "1b04b147-46f6-4cdf-ce7f-7d6f1c782080"
      },
      "outputs": [
        {
          "output_type": "stream",
          "name": "stdout",
          "text": [
            "A cidade não para, a cidade só cresce. O cima sobe e o debaixo desce.\n"
          ]
        }
      ],
      "source": [
        "'''Teste de conexão entre Colab e GitHub'''\n",
        "\n",
        "print('A cidade não para, a cidade só cresce. O cima sobe e o debaixo desce.')"
      ]
    }
  ]
}